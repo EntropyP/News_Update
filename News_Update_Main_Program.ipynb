{
  "nbformat": 4,
  "nbformat_minor": 0,
  "metadata": {
    "colab": {
      "name": "News_Update_Main Program",
      "provenance": [],
      "collapsed_sections": [],
      "authorship_tag": "ABX9TyNRhOrC+fSSXBxVDMSiE8IX",
      "include_colab_link": true
    },
    "kernelspec": {
      "name": "python3",
      "display_name": "Python 3"
    },
    "language_info": {
      "name": "python"
    }
  },
  "cells": [
    {
      "cell_type": "markdown",
      "metadata": {
        "id": "view-in-github",
        "colab_type": "text"
      },
      "source": [
        "<a href=\"https://colab.research.google.com/github/EntropyP/News_Update/blob/main/News_Update_Main_Program.ipynb\" target=\"_parent\"><img src=\"https://colab.research.google.com/assets/colab-badge.svg\" alt=\"Open In Colab\"/></a>"
      ]
    },
    {
      "cell_type": "markdown",
      "metadata": {
        "id": "z6L8_pvICaDk"
      },
      "source": [
        "# News Update acquisition : Main Program"
      ]
    },
    {
      "cell_type": "markdown",
      "source": [
        "## Set up"
      ],
      "metadata": {
        "id": "rhlNGrNweDoH"
      }
    },
    {
      "cell_type": "code",
      "metadata": {
        "colab": {
          "base_uri": "https://localhost:8080/"
        },
        "id": "Pkk59GpL6Xke",
        "outputId": "29d7a89b-da52-4bb1-f338-2b857cdfce01"
      },
      "source": [
        "! pip install newsapi-python"
      ],
      "execution_count": 84,
      "outputs": [
        {
          "output_type": "stream",
          "name": "stdout",
          "text": [
            "Requirement already satisfied: newsapi-python in /usr/local/lib/python3.7/dist-packages (0.2.6)\n",
            "Requirement already satisfied: requests<3.0.0 in /usr/local/lib/python3.7/dist-packages (from newsapi-python) (2.23.0)\n",
            "Requirement already satisfied: urllib3!=1.25.0,!=1.25.1,<1.26,>=1.21.1 in /usr/local/lib/python3.7/dist-packages (from requests<3.0.0->newsapi-python) (1.24.3)\n",
            "Requirement already satisfied: chardet<4,>=3.0.2 in /usr/local/lib/python3.7/dist-packages (from requests<3.0.0->newsapi-python) (3.0.4)\n",
            "Requirement already satisfied: idna<3,>=2.5 in /usr/local/lib/python3.7/dist-packages (from requests<3.0.0->newsapi-python) (2.10)\n",
            "Requirement already satisfied: certifi>=2017.4.17 in /usr/local/lib/python3.7/dist-packages (from requests<3.0.0->newsapi-python) (2021.10.8)\n"
          ]
        }
      ]
    },
    {
      "cell_type": "code",
      "metadata": {
        "id": "jJHiFxse6pvU"
      },
      "source": [
        "# import libraries\n",
        "\n",
        "from newsapi import NewsApiClient\n",
        "import datetime as datetime\n",
        "import pandas as pd"
      ],
      "execution_count": 85,
      "outputs": []
    },
    {
      "cell_type": "code",
      "metadata": {
        "id": "VkT4JWBr6soT"
      },
      "source": [
        "# input api_key (Request from https://newsapi.org/)\n",
        "\n",
        "newsapi = NewsApiClient(api_key = 'a51013f42c6d46e3b3fa974d7363d177')"
      ],
      "execution_count": 86,
      "outputs": []
    },
    {
      "cell_type": "markdown",
      "source": [
        "## Input key search and maximum page search"
      ],
      "metadata": {
        "id": "KyAEHP4deWiO"
      }
    },
    {
      "cell_type": "code",
      "source": [
        "key_search = ['\"DOW chemical\"','\"carbon capture and storage\"']\n",
        "page_search = 100"
      ],
      "metadata": {
        "id": "_VUgU_g-elrt"
      },
      "execution_count": 87,
      "outputs": []
    },
    {
      "cell_type": "markdown",
      "source": [
        "## Searching Process"
      ],
      "metadata": {
        "id": "YurXURk3galw"
      }
    },
    {
      "cell_type": "code",
      "source": [
        "#Create final dataframe which will collect all news in the focus area according to key_search\n",
        "\n",
        "df_final = pd.DataFrame()\n",
        "\n",
        "#Search data from each key_search\n",
        "\n",
        "for key in key_search:\n",
        "  try:\n",
        "    data = newsapi.get_everything(q = key, language = 'en', page_size= page_search, sort_by='relevancy')\n",
        "    articles = data['articles']\n",
        "    df_news = pd.DataFrame(articles)\n",
        "    df_news['key'] = key\n",
        "    df_final = df_final.append(df_news,ignore_index=True)\n",
        "  except:\n",
        "    print('There is no search result for \"', key ,'\"')\n",
        "\n",
        "#The final dataframe which was classified by topic\n",
        "\n",
        "df_final['source_name'] = df_final['source'].apply(pd.Series)['name']\n",
        "df_final"
      ],
      "metadata": {
        "id": "1I9UHI24klhY",
        "colab": {
          "base_uri": "https://localhost:8080/",
          "height": 1000
        },
        "outputId": "8e4fd97f-e009-4910-8ba1-dd7306e97f47"
      },
      "execution_count": 88,
      "outputs": [
        {
          "output_type": "execute_result",
          "data": {
            "text/html": [
              "\n",
              "  <div id=\"df-14f19ece-9078-4557-81f5-e15c1aaff29d\">\n",
              "    <div class=\"colab-df-container\">\n",
              "      <div>\n",
              "<style scoped>\n",
              "    .dataframe tbody tr th:only-of-type {\n",
              "        vertical-align: middle;\n",
              "    }\n",
              "\n",
              "    .dataframe tbody tr th {\n",
              "        vertical-align: top;\n",
              "    }\n",
              "\n",
              "    .dataframe thead th {\n",
              "        text-align: right;\n",
              "    }\n",
              "</style>\n",
              "<table border=\"1\" class=\"dataframe\">\n",
              "  <thead>\n",
              "    <tr style=\"text-align: right;\">\n",
              "      <th></th>\n",
              "      <th>source</th>\n",
              "      <th>author</th>\n",
              "      <th>title</th>\n",
              "      <th>description</th>\n",
              "      <th>url</th>\n",
              "      <th>urlToImage</th>\n",
              "      <th>publishedAt</th>\n",
              "      <th>content</th>\n",
              "      <th>key</th>\n",
              "      <th>source_name</th>\n",
              "    </tr>\n",
              "  </thead>\n",
              "  <tbody>\n",
              "    <tr>\n",
              "      <th>0</th>\n",
              "      <td>{'id': 'al-jazeera-english', 'name': 'Al Jazee...</td>\n",
              "      <td>Al Jazeera</td>\n",
              "      <td>Lucid Motors plans to build EV factory in Saud...</td>\n",
              "      <td>Chairman told Bloomberg News that the EV maker...</td>\n",
              "      <td>https://www.aljazeera.com/economy/2022/1/12/bb...</td>\n",
              "      <td>https://www.aljazeera.com/wp-content/uploads/2...</td>\n",
              "      <td>2022-01-12T13:55:50Z</td>\n",
              "      <td>Lucid Group Inc. intends to build an electric-...</td>\n",
              "      <td>\"DOW chemical\"</td>\n",
              "      <td>Al Jazeera English</td>\n",
              "    </tr>\n",
              "    <tr>\n",
              "      <th>1</th>\n",
              "      <td>{'id': None, 'name': 'Yahoo Entertainment'}</td>\n",
              "      <td>GRAPHICAL ANALYTICS PRIVATE LIMITED</td>\n",
              "      <td>Biocides Market Size &amp; Share | North America, ...</td>\n",
              "      <td>Major biocides market players include DuPont, ...</td>\n",
              "      <td>https://finance.yahoo.com/news/biocides-market...</td>\n",
              "      <td>https://s.yimg.com/uu/api/res/1.2/0vjWRr0ZfZNd...</td>\n",
              "      <td>2022-01-11T10:00:00Z</td>\n",
              "      <td>Major biocides market players include DuPont, ...</td>\n",
              "      <td>\"DOW chemical\"</td>\n",
              "      <td>Yahoo Entertainment</td>\n",
              "    </tr>\n",
              "    <tr>\n",
              "      <th>2</th>\n",
              "      <td>{'id': None, 'name': 'CNA'}</td>\n",
              "      <td>None</td>\n",
              "      <td>China to impose anti-dumping tariffs on US che...</td>\n",
              "      <td>BEIJING :     China's commerce ministry said o...</td>\n",
              "      <td>https://www.channelnewsasia.com/business/china...</td>\n",
              "      <td>https://onecms-res.cloudinary.com/image/upload...</td>\n",
              "      <td>2022-01-10T09:34:23Z</td>\n",
              "      <td>BEIJING : China's commerce ministry said on Mo...</td>\n",
              "      <td>\"DOW chemical\"</td>\n",
              "      <td>CNA</td>\n",
              "    </tr>\n",
              "    <tr>\n",
              "      <th>3</th>\n",
              "      <td>{'id': None, 'name': 'Yahoo Entertainment'}</td>\n",
              "      <td>PR Newswire</td>\n",
              "      <td>Dow named one of America's Most JUST Companies...</td>\n",
              "      <td>Dow (NYSE: DOW) announced today that for the t...</td>\n",
              "      <td>https://finance.yahoo.com/news/dow-named-one-a...</td>\n",
              "      <td>https://s.yimg.com/uu/api/res/1.2/.yQJ3zsMBtTQ...</td>\n",
              "      <td>2022-01-11T14:47:00Z</td>\n",
              "      <td>Earns top spot in Chemicals sector and #1 rank...</td>\n",
              "      <td>\"DOW chemical\"</td>\n",
              "      <td>Yahoo Entertainment</td>\n",
              "    </tr>\n",
              "    <tr>\n",
              "      <th>4</th>\n",
              "      <td>{'id': None, 'name': 'Hyperallergic'}</td>\n",
              "      <td>Seph Rodney</td>\n",
              "      <td>Saying Maybe to the Yes Men</td>\n",
              "      <td>As much as I appreciate the collective’s cultu...</td>\n",
              "      <td>http://hyperallergic.com/704394/saying-maybe-t...</td>\n",
              "      <td>https://i0.wp.com/hyperallergic-newspack.s3.am...</td>\n",
              "      <td>2022-01-18T22:16:00Z</td>\n",
              "      <td>Years ago, when I was a graduate student in th...</td>\n",
              "      <td>\"DOW chemical\"</td>\n",
              "      <td>Hyperallergic</td>\n",
              "    </tr>\n",
              "    <tr>\n",
              "      <th>...</th>\n",
              "      <td>...</td>\n",
              "      <td>...</td>\n",
              "      <td>...</td>\n",
              "      <td>...</td>\n",
              "      <td>...</td>\n",
              "      <td>...</td>\n",
              "      <td>...</td>\n",
              "      <td>...</td>\n",
              "      <td>...</td>\n",
              "      <td>...</td>\n",
              "    </tr>\n",
              "    <tr>\n",
              "      <th>187</th>\n",
              "      <td>{'id': None, 'name': 'Forbes'}</td>\n",
              "      <td>Felicia Jackson, Contributor, \\n Felicia Jacks...</td>\n",
              "      <td>Energy Transition Will Drive Geopolitical Chan...</td>\n",
              "      <td>Calls continue to triple renewable energy capa...</td>\n",
              "      <td>https://www.forbes.com/sites/feliciajackson/20...</td>\n",
              "      <td>https://thumbor.forbes.com/thumbor/fit-in/1200...</td>\n",
              "      <td>2022-01-17T15:57:04Z</td>\n",
              "      <td>LONDON, ENGLAND - OCTOBER 04: Francesco La Cam...</td>\n",
              "      <td>\"carbon capture and storage\"</td>\n",
              "      <td>Forbes</td>\n",
              "    </tr>\n",
              "    <tr>\n",
              "      <th>188</th>\n",
              "      <td>{'id': None, 'name': 'Business Wire'}</td>\n",
              "      <td>None</td>\n",
              "      <td>Daniel Schrag to Join Climate Vault’s Technolo...</td>\n",
              "      <td>CHICAGO--(BUSINESS WIRE)--Climate Vault, an aw...</td>\n",
              "      <td>https://www.businesswire.com/news/home/2022011...</td>\n",
              "      <td>https://mms.businesswire.com/media/20220110005...</td>\n",
              "      <td>2022-01-10T16:54:17Z</td>\n",
              "      <td>CHICAGO--(BUSINESS WIRE)--Climate Vault, an aw...</td>\n",
              "      <td>\"carbon capture and storage\"</td>\n",
              "      <td>Business Wire</td>\n",
              "    </tr>\n",
              "    <tr>\n",
              "      <th>189</th>\n",
              "      <td>{'id': None, 'name': 'Zerohedge.com'}</td>\n",
              "      <td>Mike Rivero</td>\n",
              "      <td>US Gov't Spent $1.1B On Failed Carbon Capture ...</td>\n",
              "      <td>The U.S. Department of Energy has spent $1.1 b...</td>\n",
              "      <td>https://www.zerohedge.com/energy/us-govt-spent...</td>\n",
              "      <td>https://assets.zerohedge.com/s3fs-public/style...</td>\n",
              "      <td>2022-01-12T20:43:06Z</td>\n",
              "      <td>Authored by Tsvetana Paraskova via OilPrice.co...</td>\n",
              "      <td>\"carbon capture and storage\"</td>\n",
              "      <td>Zerohedge.com</td>\n",
              "    </tr>\n",
              "    <tr>\n",
              "      <th>190</th>\n",
              "      <td>{'id': None, 'name': 'Wattsupwiththat.com'}</td>\n",
              "      <td>Charles Rotter</td>\n",
              "      <td>Decarbonisation tech instantly converts CO2 to...</td>\n",
              "      <td>As the bubbles move through the liquid metal, ...</td>\n",
              "      <td>https://wattsupwiththat.com/2022/01/20/decarbo...</td>\n",
              "      <td>https://149366104.v2.pressablecdn.com/wp-conte...</td>\n",
              "      <td>2022-01-20T18:00:00Z</td>\n",
              "      <td>New tech offers pathway for instantly converti...</td>\n",
              "      <td>\"carbon capture and storage\"</td>\n",
              "      <td>Wattsupwiththat.com</td>\n",
              "    </tr>\n",
              "    <tr>\n",
              "      <th>191</th>\n",
              "      <td>{'id': None, 'name': 'The Punch'}</td>\n",
              "      <td>Tunde Ajaja</td>\n",
              "      <td>How FG can reduce price of cooking gas – PwC</td>\n",
              "      <td>A Sustainability and Climate Change Consultant...</td>\n",
              "      <td>https://punchng.com/how-fg-can-reduce-price-of...</td>\n",
              "      <td>https://cdn.punchng.com/wp-content/uploads/201...</td>\n",
              "      <td>2022-01-22T02:55:21Z</td>\n",
              "      <td>A Sustainability and Climate Change Consultant...</td>\n",
              "      <td>\"carbon capture and storage\"</td>\n",
              "      <td>The Punch</td>\n",
              "    </tr>\n",
              "  </tbody>\n",
              "</table>\n",
              "<p>192 rows × 10 columns</p>\n",
              "</div>\n",
              "      <button class=\"colab-df-convert\" onclick=\"convertToInteractive('df-14f19ece-9078-4557-81f5-e15c1aaff29d')\"\n",
              "              title=\"Convert this dataframe to an interactive table.\"\n",
              "              style=\"display:none;\">\n",
              "        \n",
              "  <svg xmlns=\"http://www.w3.org/2000/svg\" height=\"24px\"viewBox=\"0 0 24 24\"\n",
              "       width=\"24px\">\n",
              "    <path d=\"M0 0h24v24H0V0z\" fill=\"none\"/>\n",
              "    <path d=\"M18.56 5.44l.94 2.06.94-2.06 2.06-.94-2.06-.94-.94-2.06-.94 2.06-2.06.94zm-11 1L8.5 8.5l.94-2.06 2.06-.94-2.06-.94L8.5 2.5l-.94 2.06-2.06.94zm10 10l.94 2.06.94-2.06 2.06-.94-2.06-.94-.94-2.06-.94 2.06-2.06.94z\"/><path d=\"M17.41 7.96l-1.37-1.37c-.4-.4-.92-.59-1.43-.59-.52 0-1.04.2-1.43.59L10.3 9.45l-7.72 7.72c-.78.78-.78 2.05 0 2.83L4 21.41c.39.39.9.59 1.41.59.51 0 1.02-.2 1.41-.59l7.78-7.78 2.81-2.81c.8-.78.8-2.07 0-2.86zM5.41 20L4 18.59l7.72-7.72 1.47 1.35L5.41 20z\"/>\n",
              "  </svg>\n",
              "      </button>\n",
              "      \n",
              "  <style>\n",
              "    .colab-df-container {\n",
              "      display:flex;\n",
              "      flex-wrap:wrap;\n",
              "      gap: 12px;\n",
              "    }\n",
              "\n",
              "    .colab-df-convert {\n",
              "      background-color: #E8F0FE;\n",
              "      border: none;\n",
              "      border-radius: 50%;\n",
              "      cursor: pointer;\n",
              "      display: none;\n",
              "      fill: #1967D2;\n",
              "      height: 32px;\n",
              "      padding: 0 0 0 0;\n",
              "      width: 32px;\n",
              "    }\n",
              "\n",
              "    .colab-df-convert:hover {\n",
              "      background-color: #E2EBFA;\n",
              "      box-shadow: 0px 1px 2px rgba(60, 64, 67, 0.3), 0px 1px 3px 1px rgba(60, 64, 67, 0.15);\n",
              "      fill: #174EA6;\n",
              "    }\n",
              "\n",
              "    [theme=dark] .colab-df-convert {\n",
              "      background-color: #3B4455;\n",
              "      fill: #D2E3FC;\n",
              "    }\n",
              "\n",
              "    [theme=dark] .colab-df-convert:hover {\n",
              "      background-color: #434B5C;\n",
              "      box-shadow: 0px 1px 3px 1px rgba(0, 0, 0, 0.15);\n",
              "      filter: drop-shadow(0px 1px 2px rgba(0, 0, 0, 0.3));\n",
              "      fill: #FFFFFF;\n",
              "    }\n",
              "  </style>\n",
              "\n",
              "      <script>\n",
              "        const buttonEl =\n",
              "          document.querySelector('#df-14f19ece-9078-4557-81f5-e15c1aaff29d button.colab-df-convert');\n",
              "        buttonEl.style.display =\n",
              "          google.colab.kernel.accessAllowed ? 'block' : 'none';\n",
              "\n",
              "        async function convertToInteractive(key) {\n",
              "          const element = document.querySelector('#df-14f19ece-9078-4557-81f5-e15c1aaff29d');\n",
              "          const dataTable =\n",
              "            await google.colab.kernel.invokeFunction('convertToInteractive',\n",
              "                                                     [key], {});\n",
              "          if (!dataTable) return;\n",
              "\n",
              "          const docLinkHtml = 'Like what you see? Visit the ' +\n",
              "            '<a target=\"_blank\" href=https://colab.research.google.com/notebooks/data_table.ipynb>data table notebook</a>'\n",
              "            + ' to learn more about interactive tables.';\n",
              "          element.innerHTML = '';\n",
              "          dataTable['output_type'] = 'display_data';\n",
              "          await google.colab.output.renderOutput(dataTable, element);\n",
              "          const docLink = document.createElement('div');\n",
              "          docLink.innerHTML = docLinkHtml;\n",
              "          element.appendChild(docLink);\n",
              "        }\n",
              "      </script>\n",
              "    </div>\n",
              "  </div>\n",
              "  "
            ],
            "text/plain": [
              "                                                source  ...          source_name\n",
              "0    {'id': 'al-jazeera-english', 'name': 'Al Jazee...  ...   Al Jazeera English\n",
              "1          {'id': None, 'name': 'Yahoo Entertainment'}  ...  Yahoo Entertainment\n",
              "2                          {'id': None, 'name': 'CNA'}  ...                  CNA\n",
              "3          {'id': None, 'name': 'Yahoo Entertainment'}  ...  Yahoo Entertainment\n",
              "4                {'id': None, 'name': 'Hyperallergic'}  ...        Hyperallergic\n",
              "..                                                 ...  ...                  ...\n",
              "187                     {'id': None, 'name': 'Forbes'}  ...               Forbes\n",
              "188              {'id': None, 'name': 'Business Wire'}  ...        Business Wire\n",
              "189              {'id': None, 'name': 'Zerohedge.com'}  ...        Zerohedge.com\n",
              "190        {'id': None, 'name': 'Wattsupwiththat.com'}  ...  Wattsupwiththat.com\n",
              "191                  {'id': None, 'name': 'The Punch'}  ...            The Punch\n",
              "\n",
              "[192 rows x 10 columns]"
            ]
          },
          "metadata": {},
          "execution_count": 88
        }
      ]
    },
    {
      "cell_type": "code",
      "source": [
        "#Save to excel\n",
        "file_name = input('Please enter file name: ')\n",
        "df_final.to_excel(file_name + '.xlsx')"
      ],
      "metadata": {
        "id": "Bg5Cz-TTTrNO",
        "colab": {
          "base_uri": "https://localhost:8080/"
        },
        "outputId": "1b671820-31ea-436c-e6ba-1a4244206b23"
      },
      "execution_count": 89,
      "outputs": [
        {
          "name": "stdout",
          "output_type": "stream",
          "text": [
            "Please enter file name: latest\n"
          ]
        }
      ]
    },
    {
      "cell_type": "markdown",
      "metadata": {
        "id": "ybkuOiO5CZF6"
      },
      "source": [
        "# Access to the content"
      ]
    },
    {
      "cell_type": "markdown",
      "source": [
        "## Set up"
      ],
      "metadata": {
        "id": "marMwDfd5cSi"
      }
    },
    {
      "cell_type": "code",
      "metadata": {
        "id": "6qpc1d1bDCG-"
      },
      "source": [
        "import bs4\n",
        "import requests\n",
        "\n",
        "headers = {\n",
        "    'User-agent':\n",
        "    \"Mozilla/5.0 (Windows NT 10.0; Win64; x64) AppleWebKit/537.36 (KHTML, like Gecko) Chrome/70.0.3538.102 Safari/537.36 Edge/18.19582\"\n",
        "}"
      ],
      "execution_count": 90,
      "outputs": []
    },
    {
      "cell_type": "markdown",
      "source": [
        "## Create function for web scrapping"
      ],
      "metadata": {
        "id": "T4nG89OsH3zH"
      }
    },
    {
      "cell_type": "code",
      "source": [
        "#reuters\n",
        "def reuters():\n",
        "  content = soup.findAll('p', class_= 'Text__text___3eVx1j Text__dark-grey___AS2I_p Text__regular___Bh17t- Text__large___1i0u1F Body__base___25kqPt Body__large_body___3g04wK ArticleBody__element___3UrnEs')\n",
        "  content_final = ''\n",
        "  for con in content:\n",
        "    content_final += con.text\n",
        "  return content_final\n",
        "\n",
        "#yahoo\n",
        "def yahoo():\n",
        "  content = soup.findAll('p')\n",
        "  content_final = ''\n",
        "  for con in content:\n",
        "    if '<p class=' in str(con):\n",
        "      continue\n",
        "    else:\n",
        "      content_final += con.text\n",
        "  return content_final"
      ],
      "metadata": {
        "id": "nDC6JRFvH1sH"
      },
      "execution_count": 159,
      "outputs": []
    },
    {
      "cell_type": "markdown",
      "source": [
        "## Create function for text summatization"
      ],
      "metadata": {
        "id": "SqGQM3G6RWhr"
      }
    },
    {
      "cell_type": "code",
      "source": [
        "from gensim.summarization.summarizer import summarize\n"
      ],
      "metadata": {
        "id": "bk6wlVFfRdRM"
      },
      "execution_count": 150,
      "outputs": []
    },
    {
      "cell_type": "markdown",
      "source": [
        "# Content extraction"
      ],
      "metadata": {
        "id": "sEil6kw6IjdE"
      }
    },
    {
      "cell_type": "code",
      "source": [
        "df_extract = df_final.copy(deep=True)\n",
        "df_extract = df_extract[['title','url','publishedAt','key','source_name']]\n",
        "df_extract['Summary'] = None\n",
        "df_extract['Full_Text'] = None\n",
        "df_extract"
      ],
      "metadata": {
        "colab": {
          "base_uri": "https://localhost:8080/",
          "height": 641
        },
        "id": "n6IQWuv8IxZw",
        "outputId": "a7bab03e-3cb8-4ed2-bf21-7465483a6b92"
      },
      "execution_count": 161,
      "outputs": [
        {
          "output_type": "execute_result",
          "data": {
            "text/html": [
              "\n",
              "  <div id=\"df-3e7782e0-da46-4e5e-aaa5-c85caeeae06b\">\n",
              "    <div class=\"colab-df-container\">\n",
              "      <div>\n",
              "<style scoped>\n",
              "    .dataframe tbody tr th:only-of-type {\n",
              "        vertical-align: middle;\n",
              "    }\n",
              "\n",
              "    .dataframe tbody tr th {\n",
              "        vertical-align: top;\n",
              "    }\n",
              "\n",
              "    .dataframe thead th {\n",
              "        text-align: right;\n",
              "    }\n",
              "</style>\n",
              "<table border=\"1\" class=\"dataframe\">\n",
              "  <thead>\n",
              "    <tr style=\"text-align: right;\">\n",
              "      <th></th>\n",
              "      <th>title</th>\n",
              "      <th>url</th>\n",
              "      <th>publishedAt</th>\n",
              "      <th>key</th>\n",
              "      <th>source_name</th>\n",
              "      <th>Summary</th>\n",
              "      <th>Full_Text</th>\n",
              "    </tr>\n",
              "  </thead>\n",
              "  <tbody>\n",
              "    <tr>\n",
              "      <th>0</th>\n",
              "      <td>Lucid Motors plans to build EV factory in Saud...</td>\n",
              "      <td>https://www.aljazeera.com/economy/2022/1/12/bb...</td>\n",
              "      <td>2022-01-12T13:55:50Z</td>\n",
              "      <td>\"DOW chemical\"</td>\n",
              "      <td>Al Jazeera English</td>\n",
              "      <td>None</td>\n",
              "      <td>None</td>\n",
              "    </tr>\n",
              "    <tr>\n",
              "      <th>1</th>\n",
              "      <td>Biocides Market Size &amp; Share | North America, ...</td>\n",
              "      <td>https://finance.yahoo.com/news/biocides-market...</td>\n",
              "      <td>2022-01-11T10:00:00Z</td>\n",
              "      <td>\"DOW chemical\"</td>\n",
              "      <td>Yahoo Entertainment</td>\n",
              "      <td>None</td>\n",
              "      <td>None</td>\n",
              "    </tr>\n",
              "    <tr>\n",
              "      <th>2</th>\n",
              "      <td>China to impose anti-dumping tariffs on US che...</td>\n",
              "      <td>https://www.channelnewsasia.com/business/china...</td>\n",
              "      <td>2022-01-10T09:34:23Z</td>\n",
              "      <td>\"DOW chemical\"</td>\n",
              "      <td>CNA</td>\n",
              "      <td>None</td>\n",
              "      <td>None</td>\n",
              "    </tr>\n",
              "    <tr>\n",
              "      <th>3</th>\n",
              "      <td>Dow named one of America's Most JUST Companies...</td>\n",
              "      <td>https://finance.yahoo.com/news/dow-named-one-a...</td>\n",
              "      <td>2022-01-11T14:47:00Z</td>\n",
              "      <td>\"DOW chemical\"</td>\n",
              "      <td>Yahoo Entertainment</td>\n",
              "      <td>None</td>\n",
              "      <td>None</td>\n",
              "    </tr>\n",
              "    <tr>\n",
              "      <th>4</th>\n",
              "      <td>Saying Maybe to the Yes Men</td>\n",
              "      <td>http://hyperallergic.com/704394/saying-maybe-t...</td>\n",
              "      <td>2022-01-18T22:16:00Z</td>\n",
              "      <td>\"DOW chemical\"</td>\n",
              "      <td>Hyperallergic</td>\n",
              "      <td>None</td>\n",
              "      <td>None</td>\n",
              "    </tr>\n",
              "    <tr>\n",
              "      <th>...</th>\n",
              "      <td>...</td>\n",
              "      <td>...</td>\n",
              "      <td>...</td>\n",
              "      <td>...</td>\n",
              "      <td>...</td>\n",
              "      <td>...</td>\n",
              "      <td>...</td>\n",
              "    </tr>\n",
              "    <tr>\n",
              "      <th>187</th>\n",
              "      <td>Energy Transition Will Drive Geopolitical Chan...</td>\n",
              "      <td>https://www.forbes.com/sites/feliciajackson/20...</td>\n",
              "      <td>2022-01-17T15:57:04Z</td>\n",
              "      <td>\"carbon capture and storage\"</td>\n",
              "      <td>Forbes</td>\n",
              "      <td>None</td>\n",
              "      <td>None</td>\n",
              "    </tr>\n",
              "    <tr>\n",
              "      <th>188</th>\n",
              "      <td>Daniel Schrag to Join Climate Vault’s Technolo...</td>\n",
              "      <td>https://www.businesswire.com/news/home/2022011...</td>\n",
              "      <td>2022-01-10T16:54:17Z</td>\n",
              "      <td>\"carbon capture and storage\"</td>\n",
              "      <td>Business Wire</td>\n",
              "      <td>None</td>\n",
              "      <td>None</td>\n",
              "    </tr>\n",
              "    <tr>\n",
              "      <th>189</th>\n",
              "      <td>US Gov't Spent $1.1B On Failed Carbon Capture ...</td>\n",
              "      <td>https://www.zerohedge.com/energy/us-govt-spent...</td>\n",
              "      <td>2022-01-12T20:43:06Z</td>\n",
              "      <td>\"carbon capture and storage\"</td>\n",
              "      <td>Zerohedge.com</td>\n",
              "      <td>None</td>\n",
              "      <td>None</td>\n",
              "    </tr>\n",
              "    <tr>\n",
              "      <th>190</th>\n",
              "      <td>Decarbonisation tech instantly converts CO2 to...</td>\n",
              "      <td>https://wattsupwiththat.com/2022/01/20/decarbo...</td>\n",
              "      <td>2022-01-20T18:00:00Z</td>\n",
              "      <td>\"carbon capture and storage\"</td>\n",
              "      <td>Wattsupwiththat.com</td>\n",
              "      <td>None</td>\n",
              "      <td>None</td>\n",
              "    </tr>\n",
              "    <tr>\n",
              "      <th>191</th>\n",
              "      <td>How FG can reduce price of cooking gas – PwC</td>\n",
              "      <td>https://punchng.com/how-fg-can-reduce-price-of...</td>\n",
              "      <td>2022-01-22T02:55:21Z</td>\n",
              "      <td>\"carbon capture and storage\"</td>\n",
              "      <td>The Punch</td>\n",
              "      <td>None</td>\n",
              "      <td>None</td>\n",
              "    </tr>\n",
              "  </tbody>\n",
              "</table>\n",
              "<p>192 rows × 7 columns</p>\n",
              "</div>\n",
              "      <button class=\"colab-df-convert\" onclick=\"convertToInteractive('df-3e7782e0-da46-4e5e-aaa5-c85caeeae06b')\"\n",
              "              title=\"Convert this dataframe to an interactive table.\"\n",
              "              style=\"display:none;\">\n",
              "        \n",
              "  <svg xmlns=\"http://www.w3.org/2000/svg\" height=\"24px\"viewBox=\"0 0 24 24\"\n",
              "       width=\"24px\">\n",
              "    <path d=\"M0 0h24v24H0V0z\" fill=\"none\"/>\n",
              "    <path d=\"M18.56 5.44l.94 2.06.94-2.06 2.06-.94-2.06-.94-.94-2.06-.94 2.06-2.06.94zm-11 1L8.5 8.5l.94-2.06 2.06-.94-2.06-.94L8.5 2.5l-.94 2.06-2.06.94zm10 10l.94 2.06.94-2.06 2.06-.94-2.06-.94-.94-2.06-.94 2.06-2.06.94z\"/><path d=\"M17.41 7.96l-1.37-1.37c-.4-.4-.92-.59-1.43-.59-.52 0-1.04.2-1.43.59L10.3 9.45l-7.72 7.72c-.78.78-.78 2.05 0 2.83L4 21.41c.39.39.9.59 1.41.59.51 0 1.02-.2 1.41-.59l7.78-7.78 2.81-2.81c.8-.78.8-2.07 0-2.86zM5.41 20L4 18.59l7.72-7.72 1.47 1.35L5.41 20z\"/>\n",
              "  </svg>\n",
              "      </button>\n",
              "      \n",
              "  <style>\n",
              "    .colab-df-container {\n",
              "      display:flex;\n",
              "      flex-wrap:wrap;\n",
              "      gap: 12px;\n",
              "    }\n",
              "\n",
              "    .colab-df-convert {\n",
              "      background-color: #E8F0FE;\n",
              "      border: none;\n",
              "      border-radius: 50%;\n",
              "      cursor: pointer;\n",
              "      display: none;\n",
              "      fill: #1967D2;\n",
              "      height: 32px;\n",
              "      padding: 0 0 0 0;\n",
              "      width: 32px;\n",
              "    }\n",
              "\n",
              "    .colab-df-convert:hover {\n",
              "      background-color: #E2EBFA;\n",
              "      box-shadow: 0px 1px 2px rgba(60, 64, 67, 0.3), 0px 1px 3px 1px rgba(60, 64, 67, 0.15);\n",
              "      fill: #174EA6;\n",
              "    }\n",
              "\n",
              "    [theme=dark] .colab-df-convert {\n",
              "      background-color: #3B4455;\n",
              "      fill: #D2E3FC;\n",
              "    }\n",
              "\n",
              "    [theme=dark] .colab-df-convert:hover {\n",
              "      background-color: #434B5C;\n",
              "      box-shadow: 0px 1px 3px 1px rgba(0, 0, 0, 0.15);\n",
              "      filter: drop-shadow(0px 1px 2px rgba(0, 0, 0, 0.3));\n",
              "      fill: #FFFFFF;\n",
              "    }\n",
              "  </style>\n",
              "\n",
              "      <script>\n",
              "        const buttonEl =\n",
              "          document.querySelector('#df-3e7782e0-da46-4e5e-aaa5-c85caeeae06b button.colab-df-convert');\n",
              "        buttonEl.style.display =\n",
              "          google.colab.kernel.accessAllowed ? 'block' : 'none';\n",
              "\n",
              "        async function convertToInteractive(key) {\n",
              "          const element = document.querySelector('#df-3e7782e0-da46-4e5e-aaa5-c85caeeae06b');\n",
              "          const dataTable =\n",
              "            await google.colab.kernel.invokeFunction('convertToInteractive',\n",
              "                                                     [key], {});\n",
              "          if (!dataTable) return;\n",
              "\n",
              "          const docLinkHtml = 'Like what you see? Visit the ' +\n",
              "            '<a target=\"_blank\" href=https://colab.research.google.com/notebooks/data_table.ipynb>data table notebook</a>'\n",
              "            + ' to learn more about interactive tables.';\n",
              "          element.innerHTML = '';\n",
              "          dataTable['output_type'] = 'display_data';\n",
              "          await google.colab.output.renderOutput(dataTable, element);\n",
              "          const docLink = document.createElement('div');\n",
              "          docLink.innerHTML = docLinkHtml;\n",
              "          element.appendChild(docLink);\n",
              "        }\n",
              "      </script>\n",
              "    </div>\n",
              "  </div>\n",
              "  "
            ],
            "text/plain": [
              "                                                 title  ... Full_Text\n",
              "0    Lucid Motors plans to build EV factory in Saud...  ...      None\n",
              "1    Biocides Market Size & Share | North America, ...  ...      None\n",
              "2    China to impose anti-dumping tariffs on US che...  ...      None\n",
              "3    Dow named one of America's Most JUST Companies...  ...      None\n",
              "4                          Saying Maybe to the Yes Men  ...      None\n",
              "..                                                 ...  ...       ...\n",
              "187  Energy Transition Will Drive Geopolitical Chan...  ...      None\n",
              "188  Daniel Schrag to Join Climate Vault’s Technolo...  ...      None\n",
              "189  US Gov't Spent $1.1B On Failed Carbon Capture ...  ...      None\n",
              "190  Decarbonisation tech instantly converts CO2 to...  ...      None\n",
              "191       How FG can reduce price of cooking gas – PwC  ...      None\n",
              "\n",
              "[192 rows x 7 columns]"
            ]
          },
          "metadata": {},
          "execution_count": 161
        }
      ]
    },
    {
      "cell_type": "code",
      "source": [
        "for row, column in df_extract.iterrows():\n",
        "  if column['source_name'] == 'Reuters':\n",
        "    ori_link = column['url']\n",
        "    link = requests.get(ori_link,headers=headers)\n",
        "    soup = bs4.BeautifulSoup(link.text,'lxml')\n",
        "    try:\n",
        "      text = reuters()\n",
        "      df_extract.loc[row, ['Summary']] = summarize(text, ratio=0.3)\n",
        "      df_extract.loc[row, ['Full_Text']] = text\n",
        "    except:\n",
        "      pass\n",
        "  elif column['source_name'] == 'Yahoo Entertainment':\n",
        "    ori_link = column['url']\n",
        "    link = requests.get(ori_link,headers=headers)\n",
        "    soup = bs4.BeautifulSoup(link.text,'lxml')\n",
        "    try:\n",
        "      text = yahoo()\n",
        "      df_extract.loc[row, ['Summary']] = summarize(text, ratio=0.3)\n",
        "      df_extract.loc[row, ['Full_Text']] = text\n",
        "    except:\n",
        "      pass"
      ],
      "metadata": {
        "id": "lqK2o94aJTen"
      },
      "execution_count": 162,
      "outputs": []
    },
    {
      "cell_type": "code",
      "source": [
        "# for row, column in df_extract.iterrows():\n",
        "#   if column['source_name'] == 'Reuters':\n",
        "#     ori_link = column['url']\n",
        "#     link = requests.get(ori_link,headers=headers)\n",
        "#     soup = bs4.BeautifulSoup(link.text,'lxml')\n",
        "#     try:\n",
        "#       text = reuters()\n",
        "#       print(row,column['title'])\n",
        "#       print(text)\n",
        "#       print()\n",
        "#     except:\n",
        "#       pass\n",
        "#   elif column['source_name'] == 'Yahoo Entertainment':\n",
        "#     ori_link = column['url']\n",
        "#     link = requests.get(ori_link,headers=headers)\n",
        "#     soup = bs4.BeautifulSoup(link.text,'lxml')\n",
        "#     try:\n",
        "#       print(row,column['title'])\n",
        "#       content = soup.findAll('p')\n",
        "#       text = ''\n",
        "#       for con in content:\n",
        "#         if '<p class=' in str(con):\n",
        "#           pass\n",
        "#         else:\n",
        "#           text += con.text\n",
        "#       print(text)\n",
        "#       print()\n",
        "#     except:\n",
        "#       pass"
      ],
      "metadata": {
        "id": "mXr0kkDKMk2C"
      },
      "execution_count": 164,
      "outputs": []
    },
    {
      "cell_type": "code",
      "source": [
        "#Save to excel\n",
        "df_extract = df_extract.dropna()\n",
        "df_extract.to_excel(file_name + '_summary.xlsx')"
      ],
      "metadata": {
        "id": "Ul1h3n8ywQ31"
      },
      "execution_count": 165,
      "outputs": []
    }
  ]
}